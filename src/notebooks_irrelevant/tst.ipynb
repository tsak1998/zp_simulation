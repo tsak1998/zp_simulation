{
 "cells": [
  {
   "cell_type": "code",
   "execution_count": 2,
   "metadata": {},
   "outputs": [],
   "source": [
    "import matplotlib.pyplot as plt\n",
    "import cv2"
   ]
  },
  {
   "cell_type": "code",
   "execution_count": 20,
   "metadata": {},
   "outputs": [
    {
     "name": "stdout",
     "output_type": "stream",
     "text": [
      "Saved: signature_variations/signature_variant_1.png\n",
      "Saved: signature_variations/signature_variant_2.png\n",
      "Saved: signature_variations/signature_variant_3.png\n",
      "Saved: signature_variations/signature_variant_4.png\n",
      "Saved: signature_variations/signature_variant_5.png\n"
     ]
    }
   ],
   "source": [
    "img_pth = \"/home/tsakalis/ntua/phd/cellforge/Screenshot from 2025-03-04 00-41-06 (1).png\"\n",
    "def load_signature(image_path):\n",
    "    \"\"\"Loads the signature image and converts white background to transparent while keeping original color.\"\"\"\n",
    "    image = cv2.imread(image_path, cv2.IMREAD_UNCHANGED)\n",
    "    gray = cv2.cvtColor(image, cv2.COLOR_BGR2GRAY)\n",
    "    _, alpha = cv2.threshold(gray, 200, 255, cv2.THRESH_BINARY_INV)\n",
    "    \n",
    "    b, g, r = cv2.split(image)\n",
    "    rgba = cv2.merge((r, g, b, alpha))  # Preserve original color\n",
    "    return rgba\n",
    "\n",
    "def apply_affine_transformation(image):\n",
    "    \"\"\"Applies random rotation, scaling, and shearing.\"\"\"\n",
    "    rows, cols, _ = image.shape\n",
    "    angle = random.uniform(-10, 10)\n",
    "    scale = random.uniform(0.9, 1.1)\n",
    "    M = cv2.getRotationMatrix2D((cols/2, rows/2), angle, scale)\n",
    "    transformed = cv2.warpAffine(image, M, (cols, rows), borderMode=cv2.BORDER_CONSTANT, borderValue=(0, 0, 0, 0))\n",
    "    return transformed\n",
    "\n",
    "def add_noise(image):\n",
    "    \"\"\"Adds slight random noise to the signature while keeping original color.\"\"\"\n",
    "    noise = np.random.randint(0, 30, image.shape, dtype='uint8')\n",
    "    noisy_image = cv2.add(image, noise)\n",
    "    return noisy_image\n",
    "\n",
    "def adjust_thickness(image, factor=1.2):\n",
    "    \"\"\"Enhances the thickness of the signature.\"\"\"\n",
    "    kernel = np.ones((2, 2), np.uint8)\n",
    "    thickened = cv2.dilate(image, kernel, iterations=random.randint(1, 2))\n",
    "    return thickened\n",
    "\n",
    "def save_as_png(image, output_path):\n",
    "    \"\"\"Saves the image as a PNG with transparency.\"\"\"\n",
    "    image_pil = Image.fromarray(image)\n",
    "    image_pil.save(output_path, format='PNG')\n",
    "\n",
    "def generate_variations(input_image_path, output_folder, num_variations=5):\n",
    "    \"\"\"Generates multiple variations of the signature while keeping its original color.\"\"\"\n",
    "    os.makedirs(output_folder, exist_ok=True)\n",
    "    signature = load_signature(input_image_path)\n",
    "    \n",
    "    for i in range(num_variations):\n",
    "        modified = signature.copy()\n",
    "        if random.choice([True, False]):\n",
    "            modified = apply_affine_transformation(modified)\n",
    "        if random.choice([True, False]):\n",
    "            modified = add_noise(modified)\n",
    "        if random.choice([True, False]):\n",
    "            modified = adjust_thickness(modified)\n",
    "        \n",
    "        output_path = os.path.join(output_folder, f'signature_variant_{i+1}.png')\n",
    "        save_as_png(modified, output_path)\n",
    "        print(f\"Saved: {output_path}\")\n",
    "\n",
    "# Example usage\n",
    "input_signature_path = img_pth# Change this to your input image path\n",
    "output_directory = \"signature_variations\"\n",
    "generate_variations(input_signature_path, output_directory, num_variations=5)\n"
   ]
  },
  {
   "cell_type": "code",
   "execution_count": 15,
   "metadata": {},
   "outputs": [],
   "source": [
    "a  = cv2.imread(img_pth)"
   ]
  },
  {
   "cell_type": "code",
   "execution_count": 13,
   "metadata": {},
   "outputs": [],
   "source": [
    "a"
   ]
  }
 ],
 "metadata": {
  "kernelspec": {
   "display_name": "cellforge_venv",
   "language": "python",
   "name": "python3"
  },
  "language_info": {
   "codemirror_mode": {
    "name": "ipython",
    "version": 3
   },
   "file_extension": ".py",
   "mimetype": "text/x-python",
   "name": "python",
   "nbconvert_exporter": "python",
   "pygments_lexer": "ipython3",
   "version": "3.12.3"
  }
 },
 "nbformat": 4,
 "nbformat_minor": 2
}
