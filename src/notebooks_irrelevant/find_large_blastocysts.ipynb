{
 "cells": [
  {
   "cell_type": "code",
   "execution_count": 1,
   "metadata": {},
   "outputs": [],
   "source": [
    "from pathlib import Path\n",
    "\n",
    "import polars as pl\n",
    "import matplotlib.pyplot as plt\n",
    "import numpy as np"
   ]
  },
  {
   "cell_type": "code",
   "execution_count": 2,
   "metadata": {},
   "outputs": [],
   "source": [
    "data_pth = Path('../../data/')"
   ]
  },
  {
   "cell_type": "code",
   "execution_count": 3,
   "metadata": {},
   "outputs": [],
   "source": [
    "time_intervals = pl.read_csv(data_pth/ 'grade_timesteps.csv')"
   ]
  },
  {
   "cell_type": "code",
   "execution_count": 4,
   "metadata": {},
   "outputs": [],
   "source": [
    "# time_intervals = pl.read_csv(data_pth/ 'time_intervals.csv')"
   ]
  },
  {
   "cell_type": "code",
   "execution_count": 5,
   "metadata": {},
   "outputs": [],
   "source": [
    "time_intervals_final = time_intervals.group_by('id').agg(pl.col('dt').diff().quantile(0.9))\n"
   ]
  },
  {
   "cell_type": "code",
   "execution_count": 6,
   "metadata": {},
   "outputs": [],
   "source": [
    "df = pl.read_csv(data_pth/'graded_data.csv')\n",
    "area_delta = df[['id','area']].group_by('id').agg(pl.col('area').max()-pl.col('area').min())\n",
    "\n",
    "large_blasto_mask = area_delta['area']>8000\n",
    "\n",
    "selected_ids = area_delta.filter(large_blasto_mask.to_list())['id']\n",
    "\n",
    "final_df = df.filter(df[\"id\"].is_in(selected_ids))\n",
    "    "
   ]
  },
  {
   "cell_type": "code",
   "execution_count": 7,
   "metadata": {},
   "outputs": [
    {
     "data": {
      "text/plain": [
       "30496"
      ]
     },
     "execution_count": 7,
     "metadata": {},
     "output_type": "execute_result"
    }
   ],
   "source": [
    "df['area'].max()"
   ]
  },
  {
   "cell_type": "code",
   "execution_count": 8,
   "metadata": {},
   "outputs": [
    {
     "data": {
      "text/plain": [
       "<bound method Series.hist of shape: (1_195_359,)\n",
       "Series: 'dt' [f64]\n",
       "[\n",
       "\tnull\n",
       "\t0.010745\n",
       "\t0.010423\n",
       "\t0.010429\n",
       "\t0.010417\n",
       "\t…\n",
       "\t0.006874\n",
       "\t0.006959\n",
       "\t0.006944\n",
       "\t0.006945\n",
       "\t0.007021\n",
       "]>"
      ]
     },
     "execution_count": 8,
     "metadata": {},
     "output_type": "execute_result"
    }
   ],
   "source": [
    "time_intervals['dt'].diff().hist"
   ]
  },
  {
   "cell_type": "code",
   "execution_count": 9,
   "metadata": {},
   "outputs": [
    {
     "data": {
      "text/html": [
       "<div><style>\n",
       ".dataframe > thead > tr,\n",
       ".dataframe > tbody > tr {\n",
       "  text-align: right;\n",
       "  white-space: pre-wrap;\n",
       "}\n",
       "</style>\n",
       "<small>shape: (2_332, 2)</small><table border=\"1\" class=\"dataframe\"><thead><tr><th>id</th><th>dt</th></tr><tr><td>str</td><td>f64</td></tr></thead><tbody><tr><td>&quot;D2017.11.04_S01647_I0149_D_5&quot;</td><td>0.01045</td></tr><tr><td>&quot;D2018.12.05_S01916_I0149_D_4&quot;</td><td>0.010546</td></tr><tr><td>&quot;D2019.02.18_S01956_I0149_D_9&quot;</td><td>0.010518</td></tr><tr><td>&quot;D2016.04.05_S1274_I149_12&quot;</td><td>0.006967</td></tr><tr><td>&quot;D2018.03.16_S01744_I0149_D_7&quot;</td><td>0.010581</td></tr><tr><td>&hellip;</td><td>&hellip;</td></tr><tr><td>&quot;D2017.11.22_S01667_I0149_D_8&quot;</td><td>0.01048</td></tr><tr><td>&quot;D2016.07.07_S1364_I149_1&quot;</td><td>0.007021</td></tr><tr><td>&quot;D2019.02.23_S01962_I0149_D_3&quot;</td><td>0.010431</td></tr><tr><td>&quot;D2018.11.15_S01899_I0149_D_9&quot;</td><td>0.01044</td></tr><tr><td>&quot;D2018.11.24_S01906_I0149_D_1&quot;</td><td>0.01048</td></tr></tbody></table></div>"
      ],
      "text/plain": [
       "shape: (2_332, 2)\n",
       "┌──────────────────────────────┬──────────┐\n",
       "│ id                           ┆ dt       │\n",
       "│ ---                          ┆ ---      │\n",
       "│ str                          ┆ f64      │\n",
       "╞══════════════════════════════╪══════════╡\n",
       "│ D2017.11.04_S01647_I0149_D_5 ┆ 0.01045  │\n",
       "│ D2018.12.05_S01916_I0149_D_4 ┆ 0.010546 │\n",
       "│ D2019.02.18_S01956_I0149_D_9 ┆ 0.010518 │\n",
       "│ D2016.04.05_S1274_I149_12    ┆ 0.006967 │\n",
       "│ D2018.03.16_S01744_I0149_D_7 ┆ 0.010581 │\n",
       "│ …                            ┆ …        │\n",
       "│ D2017.11.22_S01667_I0149_D_8 ┆ 0.01048  │\n",
       "│ D2016.07.07_S1364_I149_1     ┆ 0.007021 │\n",
       "│ D2019.02.23_S01962_I0149_D_3 ┆ 0.010431 │\n",
       "│ D2018.11.15_S01899_I0149_D_9 ┆ 0.01044  │\n",
       "│ D2018.11.24_S01906_I0149_D_1 ┆ 0.01048  │\n",
       "└──────────────────────────────┴──────────┘"
      ]
     },
     "execution_count": 9,
     "metadata": {},
     "output_type": "execute_result"
    }
   ],
   "source": [
    "time_intervals.group_by('id').agg(pl.col('dt').diff().mean())"
   ]
  },
  {
   "cell_type": "code",
   "execution_count": 10,
   "metadata": {},
   "outputs": [],
   "source": [
    "from scipy.ndimage import gaussian_filter1d\n",
    "# Example data\\\n",
    "def get_inflection_points(area):\n",
    "    x = np.array(range(area.shape[0]))\n",
    "    y =  gaussian_filter1d(area, sigma=10)\n",
    "\n",
    "    # Fit a polynomial of degree 3\n",
    "    degree = 5\n",
    "    coeffs = np.polyfit(x, y, degree)\n",
    "    polynomial = np.poly1d(coeffs)\n",
    "\n",
    "    # Compute the first and second derivatives\n",
    "    first_derivative = polynomial.deriv()\n",
    "   \n",
    "\n",
    "    # Find roots of the second derivative\n",
    "    local_extrema = np.roots(first_derivative)\n",
    "\n",
    "    # Filter roots within the data range\n",
    "    local_extrema = local_extrema[(local_extrema >= x.min()) & (local_extrema <= x.max())]\n",
    "\n",
    "    # Find the idx that \n",
    "    # Mark deflection points\n",
    "    return list(set([int(dp.real) for dp in local_extrema]))\n"
   ]
  },
  {
   "cell_type": "code",
   "execution_count": 11,
   "metadata": {},
   "outputs": [],
   "source": [
    "# from scipy.signal import find_peaks\n",
    "# def get_inflection_points(area):\n",
    "    \n",
    "#     x = np.arange(len(area.to_numpy()))\n",
    "#     y = area  # Your data here\n",
    "\n",
    "\n",
    "#     # Compute the first and second derivatives\n",
    "#     dy = np.gradient(y)\n",
    "#     d2y = np.gradient(dy)\n",
    "\n",
    "#     # Set a threshold for the second derivative\n",
    "#     threshold = np.max(d2y) * 0.3\n",
    "\n",
    "#     sharp_points, _ = find_peaks(d2y, height=threshold)\n",
    "    \n",
    "#     return sharp_points"
   ]
  },
  {
   "cell_type": "code",
   "execution_count": 12,
   "metadata": {},
   "outputs": [],
   "source": [
    "import polars as pl\n",
    "from multiprocessing import Pool, cpu_count\n",
    "\n",
    "# Example function\n",
    "# def get_inflection_points(area_series):\n",
    "#     # Perform computations here\n",
    "#     return some_result\n",
    "\n",
    "# Parallel processing wrapper\n",
    "def process_group(group):\n",
    "    group_id, group_data, embryo_dt = group\n",
    "    \n",
    "    if embryo_dt.is_empty():\n",
    "        return group_id, 0\n",
    "\n",
    "    if \"dt\" not in embryo_dt.columns:\n",
    "        raise ValueError(f\"Column 'dt' not found in time_intervals_final for id {group_id[0]}\")\n",
    "\n",
    "    # Compute peaks\n",
    "    peaks = get_inflection_points(group_data[\"area\"])\n",
    "\n",
    "    # Ensure dt_in_hours is a scalar or iterable\n",
    "    dt_in_hours = embryo_dt[\"dt\"].item()*1440/60  # Convert to list\n",
    "\n",
    "\n",
    "    # if len(dt_in_hours) != 1:\n",
    "    #     raise ValueError(f\"Expected one dt value per group but found {len(dt_in_hours)} for id {group_id[0]}\")\n",
    "\n",
    "    # Extract the scalar value for dt\n",
    "    dt_in_hours_scalar = dt_in_hours\n",
    "\n",
    "    area_peaks = group_data[\"area\"].to_numpy()[peaks]\n",
    "    \n",
    "\n",
    "    max_diff = (group_data[\"area\"].max()-area_peaks)>1000\n",
    "\n",
    "    # print(type(peaks))\n",
    "    # Filter peaks\n",
    "    ok_peaks = np.array(peaks)[np.array(max_diff)]\n",
    "    if any(ok_peaks):\n",
    "        return group_id, np.max(ok_peaks)\n",
    "    # Return the minimum valid peak\n",
    "    return group_id, max(peaks)\n",
    "# Extract groups, process in parallel, and reconstruct\n",
    "def parallel_map_groups(df, group_column, time_intervals_final):\n",
    "    grouped = df.group_by(group_column, maintain_order=True)\n",
    "    groups = [\n",
    "        (group_id, group_data, time_intervals_final.filter(pl.col(\"id\") == group_id[0]))\n",
    "        for group_id, group_data in grouped\n",
    "    ]\n",
    "    \n",
    "    # Set process count based on available cores\n",
    "    num_processes = min(len(groups), cpu_count())\n",
    "\n",
    "    with Pool(processes=num_processes) as pool:\n",
    "        results = pool.map(process_group, groups)\n",
    "    \n",
    "    # Filter out groups with no valid peaks\n",
    "    results = [(group_id, corr) for group_id, corr in results if corr is not None]\n",
    "    \n",
    "    # Rebuild the dataframe\n",
    "    return pl.DataFrame({\"id\": [result[0][0] for result in results], \"peak\": [result[1] for result in results]})\n",
    "\n",
    "# Apply to your data\n",
    "peaks_area = parallel_map_groups(final_df, \"id\", time_intervals_final)\n",
    "\n"
   ]
  },
  {
   "cell_type": "code",
   "execution_count": 13,
   "metadata": {},
   "outputs": [
    {
     "data": {
      "text/html": [
       "<div><style>\n",
       ".dataframe > thead > tr,\n",
       ".dataframe > tbody > tr {\n",
       "  text-align: right;\n",
       "  white-space: pre-wrap;\n",
       "}\n",
       "</style>\n",
       "<small>shape: (591, 2)</small><table border=\"1\" class=\"dataframe\"><thead><tr><th>id</th><th>peak</th></tr><tr><td>str</td><td>i64</td></tr></thead><tbody><tr><td>&quot;D2016.01.05_S1181_I149_6&quot;</td><td>416</td></tr><tr><td>&quot;D2016.01.05_S1181_I149_9&quot;</td><td>520</td></tr><tr><td>&quot;D2016.01.11_S1183_I149_4&quot;</td><td>516</td></tr><tr><td>&quot;D2016.01.21_S1198_I149_10&quot;</td><td>505</td></tr><tr><td>&quot;D2016.01.21_S1198_I149_7&quot;</td><td>531</td></tr><tr><td>&hellip;</td><td>&hellip;</td></tr><tr><td>&quot;D2019.05.12_S01995_I0149_D_1&quot;</td><td>331</td></tr><tr><td>&quot;D2019.05.12_S01995_I0149_D_4&quot;</td><td>308</td></tr><tr><td>&quot;D2019.05.18_S01997_I0149_D_6&quot;</td><td>342</td></tr><tr><td>&quot;D2019.05.22_S02001_I0149_D_1&quot;</td><td>345</td></tr><tr><td>&quot;D2019.05.22_S02001_I0149_D_2&quot;</td><td>340</td></tr></tbody></table></div>"
      ],
      "text/plain": [
       "shape: (591, 2)\n",
       "┌──────────────────────────────┬──────┐\n",
       "│ id                           ┆ peak │\n",
       "│ ---                          ┆ ---  │\n",
       "│ str                          ┆ i64  │\n",
       "╞══════════════════════════════╪══════╡\n",
       "│ D2016.01.05_S1181_I149_6     ┆ 416  │\n",
       "│ D2016.01.05_S1181_I149_9     ┆ 520  │\n",
       "│ D2016.01.11_S1183_I149_4     ┆ 516  │\n",
       "│ D2016.01.21_S1198_I149_10    ┆ 505  │\n",
       "│ D2016.01.21_S1198_I149_7     ┆ 531  │\n",
       "│ …                            ┆ …    │\n",
       "│ D2019.05.12_S01995_I0149_D_1 ┆ 331  │\n",
       "│ D2019.05.12_S01995_I0149_D_4 ┆ 308  │\n",
       "│ D2019.05.18_S01997_I0149_D_6 ┆ 342  │\n",
       "│ D2019.05.22_S02001_I0149_D_1 ┆ 345  │\n",
       "│ D2019.05.22_S02001_I0149_D_2 ┆ 340  │\n",
       "└──────────────────────────────┴──────┘"
      ]
     },
     "execution_count": 13,
     "metadata": {},
     "output_type": "execute_result"
    }
   ],
   "source": [
    "peaks_area"
   ]
  },
  {
   "cell_type": "code",
   "execution_count": 14,
   "metadata": {},
   "outputs": [
    {
     "data": {
      "text/html": [
       "<div><style>\n",
       ".dataframe > thead > tr,\n",
       ".dataframe > tbody > tr {\n",
       "  text-align: right;\n",
       "  white-space: pre-wrap;\n",
       "}\n",
       "</style>\n",
       "<small>shape: (1, 2)</small><table border=\"1\" class=\"dataframe\"><thead><tr><th>id</th><th>peak</th></tr><tr><td>str</td><td>i64</td></tr></thead><tbody><tr><td>&quot;D2018.11.02_S01893_I0149_D_5&quot;</td><td>291</td></tr></tbody></table></div>"
      ],
      "text/plain": [
       "shape: (1, 2)\n",
       "┌──────────────────────────────┬──────┐\n",
       "│ id                           ┆ peak │\n",
       "│ ---                          ┆ ---  │\n",
       "│ str                          ┆ i64  │\n",
       "╞══════════════════════════════╪══════╡\n",
       "│ D2018.11.02_S01893_I0149_D_5 ┆ 291  │\n",
       "└──────────────────────────────┴──────┘"
      ]
     },
     "execution_count": 14,
     "metadata": {},
     "output_type": "execute_result"
    }
   ],
   "source": [
    "peaks_area.filter(pl.col('id')=='D2018.11.02_S01893_I0149_D_5')"
   ]
  },
  {
   "cell_type": "code",
   "execution_count": 15,
   "metadata": {},
   "outputs": [
    {
     "data": {
      "text/plain": [
       "(698,)"
      ]
     },
     "execution_count": 15,
     "metadata": {},
     "output_type": "execute_result"
    }
   ],
   "source": [
    "final_df.filter(pl.col('id')=='D2016.03.13_S1258_I149_11')['area'].shape"
   ]
  },
  {
   "cell_type": "code",
   "execution_count": 16,
   "metadata": {},
   "outputs": [],
   "source": [
    "peaks_area.write_csv(data_pth/'area_peaks.csv')"
   ]
  },
  {
   "cell_type": "code",
   "execution_count": 17,
   "metadata": {},
   "outputs": [],
   "source": [
    "area = final_df.filter(pl.col('id')=='D2018.11.02_S01893_I0149_D_5')['area'].to_numpy()"
   ]
  },
  {
   "cell_type": "code",
   "execution_count": 18,
   "metadata": {},
   "outputs": [],
   "source": [
    "dt = time_intervals_final.filter(pl.col(\"id\") == 'D2018.11.02_S01893_I0149_D_5')"
   ]
  },
  {
   "cell_type": "code",
   "execution_count": null,
   "metadata": {},
   "outputs": [],
   "source": []
  },
  {
   "cell_type": "code",
   "execution_count": 19,
   "metadata": {},
   "outputs": [
    {
     "data": {
      "text/html": [
       "<div><style>\n",
       ".dataframe > thead > tr,\n",
       ".dataframe > tbody > tr {\n",
       "  text-align: right;\n",
       "  white-space: pre-wrap;\n",
       "}\n",
       "</style>\n",
       "<small>shape: (1,)</small><table border=\"1\" class=\"dataframe\"><thead><tr><th>dt</th></tr><tr><td>f64</td></tr></thead><tbody><tr><td>0.252411</td></tr></tbody></table></div>"
      ],
      "text/plain": [
       "shape: (1,)\n",
       "Series: 'dt' [f64]\n",
       "[\n",
       "\t0.252411\n",
       "]"
      ]
     },
     "execution_count": 19,
     "metadata": {},
     "output_type": "execute_result"
    }
   ],
   "source": [
    "dt['dt']*1440/60"
   ]
  },
  {
   "cell_type": "code",
   "execution_count": 20,
   "metadata": {},
   "outputs": [],
   "source": [
    "dy = np.gradient(area)"
   ]
  },
  {
   "cell_type": "code",
   "execution_count": 21,
   "metadata": {},
   "outputs": [],
   "source": [
    "d2y = np.gradient(dy)"
   ]
  },
  {
   "cell_type": "code",
   "execution_count": 22,
   "metadata": {},
   "outputs": [
    {
     "data": {
      "text/plain": [
       "[<matplotlib.lines.Line2D at 0x7b3c0876c6b0>]"
      ]
     },
     "execution_count": 22,
     "metadata": {},
     "output_type": "execute_result"
    },
    {
     "data": {
      "image/png": "[encoded data removed]",
      "text/plain": [
       "<Figure size 640x480 with 1 Axes>"
      ]
     },
     "metadata": {},
     "output_type": "display_data"
    }
   ],
   "source": [
    "plt.plot(area-np.mean(area),'--bo',)"
   ]
  },
  {
   "cell_type": "code",
   "execution_count": 23,
   "metadata": {},
   "outputs": [
    {
     "name": "stderr",
     "output_type": "stream",
     "text": [
      "/home/tsakalis/ntua/phd/cellforge/cellforge_venv/lib/python3.12/site-packages/matplotlib/cbook.py:1345: ComplexWarning: Casting complex values to real discards the imaginary part\n",
      "  return np.asarray(x, float)\n"
     ]
    },
    {
     "data": {
      "image/png": "[encoded data removed]",
      "text/plain": [
       "<Figure size 640x480 with 1 Axes>"
      ]
     },
     "metadata": {},
     "output_type": "display_data"
    },
    {
     "name": "stdout",
     "output_type": "stream",
     "text": [
      "Deflection points: [298.15209959  +0.j         154.96058273+150.81647334j\n",
      " 154.96058273-150.81647334j  92.1953346   +0.j        ]\n"
     ]
    }
   ],
   "source": [
    "import numpy as np\n",
    "import matplotlib.pyplot as plt\n",
    "from scipy.ndimage import gaussian_filter1d\n",
    "\n",
    "\n",
    "# Example data\n",
    "x = np.array(range(area.shape[0]))\n",
    "y =  area#gaussian_filter1d(area, sigma=40)\n",
    "\n",
    "# Fit a polynomial of degree 3\n",
    "degree = 5\n",
    "coeffs = np.polyfit(x, y, degree)\n",
    "polynomial = np.poly1d(coeffs)\n",
    "\n",
    "# Compute the first and second derivatives\n",
    "first_derivative = polynomial.deriv()\n",
    "second_derivative = first_derivative.deriv()\n",
    "\n",
    "# Find roots of the second derivative\n",
    "deflection_points = np.roots(first_derivative)\n",
    "\n",
    "# Filter roots within the data range\n",
    "deflection_points = deflection_points[(deflection_points >= x.min()) & (deflection_points <= x.max())]\n",
    "\n",
    "# Plot the data and polynomial\n",
    "plt.scatter(x, y, label=\"Data\", color=\"blue\")\n",
    "x_fit = np.linspace(x.min(), x.max(), 500)\n",
    "y_fit = polynomial(x_fit)\n",
    "plt.plot(x_fit, y_fit, label=f\"Polynomial (Degree {degree})\", color=\"red\")\n",
    "\n",
    "# Mark deflection points\n",
    "for dp in deflection_points:\n",
    "    plt.axvline(dp, color=\"green\", linestyle=\"--\", label=f\"Deflection Point: x={dp:.2f}\")\n",
    "\n",
    "plt.legend()\n",
    "plt.title(\"Polynomial Fit and Deflection Points\")\n",
    "plt.xlabel(\"X\")\n",
    "plt.ylabel(\"Y\")\n",
    "plt.grid()\n",
    "plt.show()\n",
    "\n",
    "# Print deflection points\n",
    "print(\"Deflection points:\", deflection_points)\n"
   ]
  },
  {
   "cell_type": "code",
   "execution_count": 24,
   "metadata": {},
   "outputs": [
    {
     "name": "stdout",
     "output_type": "stream",
     "text": [
      "298\n",
      "154\n",
      "154\n",
      "92\n"
     ]
    }
   ],
   "source": [
    "for dp in deflection_points:\n",
    "    print(int(dp.real))"
   ]
  },
  {
   "cell_type": "code",
   "execution_count": null,
   "metadata": {},
   "outputs": [],
   "source": []
  }
 ],
 "metadata": {
  "kernelspec": {
   "display_name": "cellforge_venv",
   "language": "python",
   "name": "python3"
  },
  "language_info": {
   "codemirror_mode": {
    "name": "ipython",
    "version": 3
   },
   "file_extension": ".py",
   "mimetype": "text/x-python",
   "name": "python",
   "nbconvert_exporter": "python",
   "pygments_lexer": "ipython3",
   "version": "3.12.3"
  }
 },
 "nbformat": 4,
 "nbformat_minor": 2
}
