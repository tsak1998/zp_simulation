{
 "cells": [
  {
   "cell_type": "code",
   "execution_count": 24,
   "metadata": {},
   "outputs": [
    {
     "name": "stdout",
     "output_type": "stream",
     "text": [
      "loading annotations into memory...\n",
      "Done (t=0.00s)\n",
      "creating index...\n",
      "index created!\n",
      "loading annotations into memory...\n",
      "Done (t=0.00s)\n",
      "creating index...\n",
      "index created!\n",
      "loading annotations into memory...\n",
      "Done (t=0.00s)\n",
      "creating index...\n",
      "index created!\n",
      "loading annotations into memory...\n",
      "Done (t=0.00s)\n",
      "creating index...\n",
      "index created!\n",
      "loading annotations into memory...\n",
      "Done (t=0.00s)\n",
      "creating index...\n",
      "index created!\n",
      "loading annotations into memory...\n",
      "Done (t=0.00s)\n",
      "creating index...\n",
      "index created!\n",
      "loading annotations into memory...\n",
      "Done (t=0.00s)\n",
      "creating index...\n",
      "index created!\n",
      "loading annotations into memory...\n",
      "Done (t=0.00s)\n",
      "creating index...\n",
      "index created!\n",
      "loading annotations into memory...\n",
      "Done (t=0.00s)\n",
      "creating index...\n",
      "index created!\n",
      "loading annotations into memory...\n",
      "Done (t=0.00s)\n",
      "creating index...\n",
      "index created!\n",
      "loading annotations into memory...\n",
      "Done (t=0.00s)\n",
      "creating index...\n",
      "index created!\n",
      "loading annotations into memory...\n",
      "Done (t=0.00s)\n",
      "creating index...\n",
      "index created!\n",
      "loading annotations into memory...\n",
      "Done (t=0.00s)\n",
      "creating index...\n",
      "index created!\n"
     ]
    }
   ],
   "source": [
    "import os\n",
    "from pathlib import Path\n",
    "import numpy as np\n",
    "from pycocotools.coco import COCO\n",
    "from PIL import Image\n",
    "\n",
    "# Paths\n",
    "file = 'D2017.09.19_S1622_I149_1.json'\n",
    "annotation_pth = Path(\n",
    "    '/Users/tsakalis/ntua/cellforge/data/blastocyst_annotations')\n",
    "output_dir = Path('/Users/tsakalis/ntua/cellforge/data/blastocyst_masks/'\n",
    "                  )  # Directory to save the masks\n",
    "\n",
    "# Load COCO annotations\n",
    "\n",
    "# Create the output directory if it doesn't exist\n",
    "\n",
    "for annotation_file in annotation_pth.glob('*.json'):\n",
    "    # Load COCO annotations\n",
    "    coco = COCO(annotation_file)\n",
    "\n",
    "    # Get all annotation IDs\n",
    "    annotation_ids = coco.getAnnIds()\n",
    "\n",
    "    os.makedirs(output_dir / annotation_file.stem.lower(), exist_ok=True)\n",
    "\n",
    "    # Create the output directory if it doesn't exist\n",
    "    # Loop through each annotation\n",
    "    for ann_id in annotation_ids:\n",
    "        # Load annotation\n",
    "        annotation = coco.loadAnns(ann_id)[0]\n",
    "        image_id = annotation['image_id']\n",
    "\n",
    "        # Get the associated image details\n",
    "        image_info = coco.loadImgs(image_id)[0]\n",
    "        image_name = image_info['file_name']\n",
    "\n",
    "        # Generate the mask\n",
    "        mask = coco.annToMask(annotation)\n",
    "\n",
    "        # Save the mask as a PNG image\n",
    "        mask_output_path = (output_dir / annotation_file.stem.lower()\n",
    "                            ) / f\"{image_name.split('.')[0]}.png\"\n",
    "        mask_image = Image.fromarray(\n",
    "            (mask * 255).astype(np.uint8))  # Scale mask to 0-255\n",
    "        mask_image.save(mask_output_path)"
   ]
  },
  {
   "cell_type": "code",
   "execution_count": 25,
   "metadata": {},
   "outputs": [
    {
     "data": {
      "text/plain": [
       "PosixPath('/Users/tsakalis/ntua/cellforge/data/blastocyst_annotations/d2018.10.14_s01881_i0149_d_1.json')"
      ]
     },
     "execution_count": 25,
     "metadata": {},
     "output_type": "execute_result"
    }
   ],
   "source": [
    "annotation_file"
   ]
  },
  {
   "cell_type": "code",
   "execution_count": 26,
   "metadata": {},
   "outputs": [
    {
     "data": {
      "text/plain": [
       "'379.jpg'"
      ]
     },
     "execution_count": 26,
     "metadata": {},
     "output_type": "execute_result"
    }
   ],
   "source": [
    "image_name"
   ]
  }
 ],
 "metadata": {
  "kernelspec": {
   "display_name": "cellforge-Tgd_YqAD-py3.11",
   "language": "python",
   "name": "python3"
  },
  "language_info": {
   "codemirror_mode": {
    "name": "ipython",
    "version": 3
   },
   "file_extension": ".py",
   "mimetype": "text/x-python",
   "name": "python",
   "nbconvert_exporter": "python",
   "pygments_lexer": "ipython3",
   "version": "3.11.10"
  },
  "orig_nbformat": 4
 },
 "nbformat": 4,
 "nbformat_minor": 2
}
